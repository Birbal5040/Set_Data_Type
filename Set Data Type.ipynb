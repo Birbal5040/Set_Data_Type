{
 "cells": [
  {
   "cell_type": "markdown",
   "id": "3549aa2a-20ce-4b68-bed2-1e5c154e2969",
   "metadata": {},
   "source": [
    "# Set Data Type"
   ]
  },
  {
   "cell_type": "raw",
   "id": "be2733b7-4b55-4d03-b580-1b3b57644d84",
   "metadata": {},
   "source": [
    "Set is store multiple value in variable with unique value"
   ]
  },
  {
   "cell_type": "markdown",
   "id": "e679e468-57e4-4b62-bb4f-6f652e18c250",
   "metadata": {},
   "source": [
    "### Some Properties of set"
   ]
  },
  {
   "cell_type": "raw",
   "id": "6d8867d4-c465-42f6-a01e-27506440b195",
   "metadata": {},
   "source": [
    "i) Unindexed\n",
    "ii) Unordered\n",
    "iii) immutable\n",
    "iv) Duplicate are not allowed\n",
    "v) Any data type are allowed\n",
    "vi) Mixed different data type"
   ]
  },
  {
   "cell_type": "code",
   "execution_count": 1,
   "id": "9dd40f6c-ba64-4fc6-a986-fe46a0b2ccc3",
   "metadata": {},
   "outputs": [
    {
     "name": "stdout",
     "output_type": "stream",
     "text": [
      "<class 'set'> {433, 443, 12, 57}\n"
     ]
    }
   ],
   "source": [
    "set={12,433,443,57}\n",
    "print(type(set),set)"
   ]
  },
  {
   "cell_type": "markdown",
   "id": "0588f7bb-7eac-4b2e-8854-bb0d72197540",
   "metadata": {},
   "source": [
    "# Empty set"
   ]
  },
  {
   "cell_type": "code",
   "execution_count": 4,
   "id": "eda73113-5e9d-4713-ae4d-a32517f55f71",
   "metadata": {},
   "outputs": [
    {
     "name": "stdout",
     "output_type": "stream",
     "text": [
      "<class 'dict'> {}\n"
     ]
    }
   ],
   "source": [
    "set={} # data type is dictionary\n",
    "print(type(set),set)"
   ]
  },
  {
   "cell_type": "code",
   "execution_count": 1,
   "id": "8f378237-72c1-41bb-a9c9-a5a990a6367f",
   "metadata": {},
   "outputs": [
    {
     "name": "stdout",
     "output_type": "stream",
     "text": [
      "<class 'set'> set()\n"
     ]
    }
   ],
   "source": [
    "set1=set()  # this is set data type\n",
    "print(type(set1),set1)"
   ]
  },
  {
   "cell_type": "markdown",
   "id": "459eecbd-94f2-4f0e-84e6-d9709726b583",
   "metadata": {},
   "source": [
    "# Properties of set"
   ]
  },
  {
   "cell_type": "markdown",
   "id": "d54c82be-72bc-4f32-aebe-ef79b6611222",
   "metadata": {},
   "source": [
    "## 1 Unordered"
   ]
  },
  {
   "cell_type": "code",
   "execution_count": 22,
   "id": "d79b9f7e-c94f-4781-9bb0-2d9e1be5cb1e",
   "metadata": {},
   "outputs": [
    {
     "name": "stdout",
     "output_type": "stream",
     "text": [
      "{676, 54, 234, 43, 76}\n"
     ]
    }
   ],
   "source": [
    "set={234,54,676,76,43}\n",
    "print(set)"
   ]
  },
  {
   "cell_type": "markdown",
   "id": "291e2d41-cb99-4f6a-a542-b169a52a5857",
   "metadata": {},
   "source": [
    "## 2 No Indexing and No Slicing"
   ]
  },
  {
   "cell_type": "code",
   "execution_count": 23,
   "id": "60f65c9d-a115-4a13-b3c7-0c39bb77f342",
   "metadata": {},
   "outputs": [
    {
     "ename": "TypeError",
     "evalue": "'set' object is not subscriptable",
     "output_type": "error",
     "traceback": [
      "\u001b[1;31m---------------------------------------------------------------------------\u001b[0m",
      "\u001b[1;31mTypeError\u001b[0m                                 Traceback (most recent call last)",
      "Cell \u001b[1;32mIn[23], line 2\u001b[0m\n\u001b[0;32m      1\u001b[0m \u001b[38;5;28mset\u001b[39m\u001b[38;5;241m=\u001b[39m{\u001b[38;5;241m23\u001b[39m,\u001b[38;5;241m23\u001b[39m,\u001b[38;5;241m45\u001b[39m,\u001b[38;5;241m76\u001b[39m,\u001b[38;5;241m76\u001b[39m}\n\u001b[1;32m----> 2\u001b[0m \u001b[38;5;28mprint\u001b[39m(\u001b[38;5;28;43mset\u001b[39;49m\u001b[43m[\u001b[49m\u001b[38;5;241;43m3\u001b[39;49m\u001b[43m]\u001b[49m)\n",
      "\u001b[1;31mTypeError\u001b[0m: 'set' object is not subscriptable"
     ]
    }
   ],
   "source": [
    "set={23,23,45,76,76}\n",
    "print(set[3])"
   ]
  },
  {
   "cell_type": "markdown",
   "id": "f4cff7cd-c99c-4e46-bd45-cba5ef4df019",
   "metadata": {},
   "source": [
    "## 3 Immutable"
   ]
  },
  {
   "cell_type": "code",
   "execution_count": 24,
   "id": "2992f6f6-7d12-4552-9186-944eb59dc2f5",
   "metadata": {},
   "outputs": [
    {
     "ename": "TypeError",
     "evalue": "'set' object does not support item assignment",
     "output_type": "error",
     "traceback": [
      "\u001b[1;31m---------------------------------------------------------------------------\u001b[0m",
      "\u001b[1;31mTypeError\u001b[0m                                 Traceback (most recent call last)",
      "Cell \u001b[1;32mIn[24], line 2\u001b[0m\n\u001b[0;32m      1\u001b[0m \u001b[38;5;28mset\u001b[39m\u001b[38;5;241m=\u001b[39m{\u001b[38;5;241m23\u001b[39m,\u001b[38;5;241m23\u001b[39m,\u001b[38;5;241m554\u001b[39m,\u001b[38;5;241m56\u001b[39m,\u001b[38;5;241m76\u001b[39m}\n\u001b[1;32m----> 2\u001b[0m \u001b[38;5;28;43mset\u001b[39;49m\u001b[43m[\u001b[49m\u001b[38;5;241;43m2\u001b[39;49m\u001b[43m]\u001b[49m\u001b[38;5;241m=\u001b[39m\u001b[38;5;241m500\u001b[39m\n\u001b[0;32m      3\u001b[0m \u001b[38;5;28mprint\u001b[39m(\u001b[38;5;28mset\u001b[39m)\n",
      "\u001b[1;31mTypeError\u001b[0m: 'set' object does not support item assignment"
     ]
    }
   ],
   "source": [
    "set={23,23,554,56,76}\n",
    "set[2]=500\n",
    "print(set)"
   ]
  },
  {
   "cell_type": "markdown",
   "id": "ffebe2ec-5b19-4c5c-8fa3-1a94c4d1cabd",
   "metadata": {},
   "source": [
    "## 4 Duplicate are not allowed( Means only one frequency count in set)"
   ]
  },
  {
   "cell_type": "code",
   "execution_count": 25,
   "id": "f9663ea2-8010-4cb8-af13-e33943d8811f",
   "metadata": {},
   "outputs": [
    {
     "name": "stdout",
     "output_type": "stream",
     "text": [
      "{34, 54, 23, 776, 89, 56, 76}\n"
     ]
    }
   ],
   "source": [
    "set={23,54,56,76,776,89,34,23,34}\n",
    "print(set)"
   ]
  },
  {
   "cell_type": "markdown",
   "id": "0e80464b-bf09-41c4-8de4-91114af03a7e",
   "metadata": {},
   "source": [
    "## Mixed Data type are allowed"
   ]
  },
  {
   "cell_type": "code",
   "execution_count": 36,
   "id": "eea4284e-ebb2-4625-b55e-1a83de8a1ae1",
   "metadata": {},
   "outputs": [
    {
     "name": "stdout",
     "output_type": "stream",
     "text": [
      "Length is:  4\n",
      "{65, 'Birbal', 'Arvind', 23}\n"
     ]
    }
   ],
   "source": [
    "set={23,23,65,\"Birbal\",\"Arvind\"}\n",
    "print(\"Length is: \",len(set))\n",
    "print(set)"
   ]
  },
  {
   "cell_type": "markdown",
   "id": "14b04b37-7ac9-45af-8777-e989076c9bc4",
   "metadata": {},
   "source": [
    "# TypeCasting"
   ]
  },
  {
   "cell_type": "code",
   "execution_count": 28,
   "id": "65ce9ec9-2784-4f3a-a8de-6b7f4cd3476d",
   "metadata": {},
   "outputs": [
    {
     "name": "stdout",
     "output_type": "stream",
     "text": [
      "{65, 43, 23, 55} <class 'list'>\n"
     ]
    }
   ],
   "source": [
    "# Set to list\n",
    "set={23,43,55,65}\n",
    "lt=list(set)\n",
    "print(set,type(lt))"
   ]
  },
  {
   "cell_type": "code",
   "execution_count": 2,
   "id": "34ee5740-4a13-4bae-b036-3c03caaf8056",
   "metadata": {},
   "outputs": [
    {
     "name": "stdout",
     "output_type": "stream",
     "text": [
      "{76, 45, 23, 343, 56}\n"
     ]
    }
   ],
   "source": [
    "# List to set\n",
    "list=[23,343,56,76,45]\n",
    "st=set(list)\n",
    "print(st)"
   ]
  },
  {
   "cell_type": "markdown",
   "id": "03363565-370d-4dee-817d-779c1414522d",
   "metadata": {},
   "source": [
    "# Hashable Element"
   ]
  },
  {
   "cell_type": "markdown",
   "id": "54a4dcc2-1dc4-4e68-a4a0-2b57e9be62de",
   "metadata": {},
   "source": [
    "only set allow immutable data type.\n",
    " Like that"
   ]
  },
  {
   "cell_type": "code",
   "execution_count": 33,
   "id": "20e2a3a4-c04d-4a3f-9df3-c75b4d03d88c",
   "metadata": {},
   "outputs": [
    {
     "name": "stdout",
     "output_type": "stream",
     "text": [
      "{33, 67, 4, (23, 44, 56), 56, 12} <class 'set'>\n"
     ]
    }
   ],
   "source": [
    "set={12,33,4,56,67,(23,44,56)} # This allow only when Tuple is immutable\n",
    "print(set,type(set))"
   ]
  },
  {
   "cell_type": "code",
   "execution_count": 34,
   "id": "564c08c8-0563-453d-bc54-cd760b6b75e7",
   "metadata": {},
   "outputs": [
    {
     "ename": "TypeError",
     "evalue": "unhashable type: 'list'",
     "output_type": "error",
     "traceback": [
      "\u001b[1;31m---------------------------------------------------------------------------\u001b[0m",
      "\u001b[1;31mTypeError\u001b[0m                                 Traceback (most recent call last)",
      "Cell \u001b[1;32mIn[34], line 1\u001b[0m\n\u001b[1;32m----> 1\u001b[0m \u001b[38;5;28mset\u001b[39m\u001b[38;5;241m=\u001b[39m{\u001b[38;5;241m12\u001b[39m,\u001b[38;5;241m33\u001b[39m,\u001b[38;5;241m4\u001b[39m,\u001b[38;5;241m56\u001b[39m,\u001b[38;5;241m67\u001b[39m,[\u001b[38;5;241m23\u001b[39m,\u001b[38;5;241m44\u001b[39m,\u001b[38;5;241m56\u001b[39m]}\n\u001b[0;32m      2\u001b[0m \u001b[38;5;28mprint\u001b[39m(\u001b[38;5;28mset\u001b[39m,\u001b[38;5;28mtype\u001b[39m(\u001b[38;5;28mset\u001b[39m))\n",
      "\u001b[1;31mTypeError\u001b[0m: unhashable type: 'list'"
     ]
    }
   ],
   "source": [
    "set={12,33,4,56,67,[23,44,56]} # This is not allow because List is Mutable data type\n",
    "print(set,type(set))"
   ]
  },
  {
   "cell_type": "code",
   "execution_count": 35,
   "id": "83c725b7-6f98-4f05-8b52-b328c84fb8af",
   "metadata": {},
   "outputs": [
    {
     "ename": "TypeError",
     "evalue": "unhashable type: 'dict'",
     "output_type": "error",
     "traceback": [
      "\u001b[1;31m---------------------------------------------------------------------------\u001b[0m",
      "\u001b[1;31mTypeError\u001b[0m                                 Traceback (most recent call last)",
      "Cell \u001b[1;32mIn[35], line 1\u001b[0m\n\u001b[1;32m----> 1\u001b[0m \u001b[38;5;28mset\u001b[39m\u001b[38;5;241m=\u001b[39m{\u001b[38;5;241m12\u001b[39m,\u001b[38;5;241m33\u001b[39m,\u001b[38;5;241m4\u001b[39m,\u001b[38;5;241m56\u001b[39m,\u001b[38;5;241m67\u001b[39m,{\u001b[38;5;124m\"\u001b[39m\u001b[38;5;124ma\u001b[39m\u001b[38;5;124m\"\u001b[39m:\u001b[38;5;241m100\u001b[39m,\u001b[38;5;124m\"\u001b[39m\u001b[38;5;124mb\u001b[39m\u001b[38;5;124m\"\u001b[39m:\u001b[38;5;241m200\u001b[39m}} \u001b[38;5;66;03m# This is not allow because List is Mutable data type\u001b[39;00m\n\u001b[0;32m      2\u001b[0m \u001b[38;5;28mprint\u001b[39m(\u001b[38;5;28mset\u001b[39m,\u001b[38;5;28mtype\u001b[39m(\u001b[38;5;28mset\u001b[39m))\n",
      "\u001b[1;31mTypeError\u001b[0m: unhashable type: 'dict'"
     ]
    }
   ],
   "source": [
    "set={12,33,4,56,67,{\"a\":100,\"b\":200}} # This is also Mutable data type\n",
    "print(set,type(set))"
   ]
  },
  {
   "cell_type": "markdown",
   "id": "155b3b88-dbd6-432b-97b9-6abb192eabe3",
   "metadata": {},
   "source": [
    "# Add items"
   ]
  },
  {
   "cell_type": "markdown",
   "id": "600bc2d5-c62b-4196-8ae8-734cc23dfe13",
   "metadata": {},
   "source": [
    "## If you are create set then you are not change items but you can add items"
   ]
  },
  {
   "cell_type": "code",
   "execution_count": 39,
   "id": "90ac1c22-d83c-4946-9025-78bd7ca4acb5",
   "metadata": {},
   "outputs": [
    {
     "name": "stdout",
     "output_type": "stream",
     "text": [
      "{'Gautam', 'Kumar Birbal', 'Harishankar', 'Birbal'} <class 'set'>\n"
     ]
    }
   ],
   "source": [
    "set={'Birbal',\"Gautam\",\"Harishankar\"}\n",
    "set.add(\"Kumar Birbal\")\n",
    "print(set,type(set))"
   ]
  },
  {
   "cell_type": "markdown",
   "id": "41805769-d3dc-4af3-aeb9-06ca8cade8fd",
   "metadata": {},
   "source": [
    "## Remove,Discard,Clear and Pop Method"
   ]
  },
  {
   "cell_type": "code",
   "execution_count": 43,
   "id": "6ff2c0ee-6ac2-4624-80e0-f0b18d17e11d",
   "metadata": {},
   "outputs": [
    {
     "name": "stdout",
     "output_type": "stream",
     "text": [
      "{'Gautam', 'Harishankar'}\n"
     ]
    }
   ],
   "source": [
    "set={'Birbal',\"Gautam\",\"Harishankar\"}\n",
    "set.remove('Birbal') # This is give error if value is not present in set\n",
    "print(set)"
   ]
  },
  {
   "cell_type": "code",
   "execution_count": 53,
   "id": "8c7640d7-7c3d-471f-bddc-bced8b624908",
   "metadata": {},
   "outputs": [
    {
     "name": "stdout",
     "output_type": "stream",
     "text": [
      "{'Harishankar', 'Birbal'}\n"
     ]
    }
   ],
   "source": [
    "set={'Birbal',\"Gautam\",\"Harishankar\"}\n",
    "set.discard('Gautam') # This is not give error if value is not present in set\n",
    "print(set)"
   ]
  },
  {
   "cell_type": "code",
   "execution_count": null,
   "id": "b718f1da-c382-4c5c-920e-57f4193d8c35",
   "metadata": {},
   "outputs": [],
   "source": []
  },
  {
   "cell_type": "code",
   "execution_count": 46,
   "id": "b68da4b1-6dd8-446c-9045-f742ac3168e9",
   "metadata": {},
   "outputs": [
    {
     "name": "stdout",
     "output_type": "stream",
     "text": [
      "Gautam\n"
     ]
    }
   ],
   "source": [
    "set={'Birbal',\"Gautam\",\"Harishankar\",23,44,55,65}\n",
    "print(set.pop())"
   ]
  },
  {
   "cell_type": "code",
   "execution_count": 47,
   "id": "4dd2fa62-2d3e-4909-94e2-0561523439c0",
   "metadata": {},
   "outputs": [
    {
     "name": "stdout",
     "output_type": "stream",
     "text": [
      "65\n"
     ]
    }
   ],
   "source": [
    "print(set.pop())"
   ]
  },
  {
   "cell_type": "code",
   "execution_count": 48,
   "id": "ba13d702-9999-4bc9-bae0-14697a8eb5cd",
   "metadata": {},
   "outputs": [
    {
     "name": "stdout",
     "output_type": "stream",
     "text": [
      "set() <class 'set'>\n"
     ]
    }
   ],
   "source": [
    "set={'Birbal',\"Gautam\",\"Harishankar\",23,44,55,65}\n",
    "set.clear()\n",
    "print(set,type(set))"
   ]
  },
  {
   "cell_type": "markdown",
   "id": "74bfe45b-7d6c-49ca-a6dd-47fac49f140a",
   "metadata": {},
   "source": [
    "# Update/Union Method"
   ]
  },
  {
   "cell_type": "code",
   "execution_count": 51,
   "id": "2f898057-2cd5-440f-8c78-3ed1ed47422e",
   "metadata": {},
   "outputs": [
    {
     "name": "stdout",
     "output_type": "stream",
     "text": [
      "{'Gautam', 65, 44, 12, 78, 'Birbal', 'Harishankar', 55, 21, 23}\n"
     ]
    }
   ],
   "source": [
    "set1={'Birbal',\"Gautam\",\"Harishankar\",23,44,55,65}\n",
    "set2={12,21,78}\n",
    "set1.update(set2)\n",
    "print(set1)"
   ]
  },
  {
   "cell_type": "code",
   "execution_count": 54,
   "id": "c90d287a-2473-49f0-9c64-8877b2d55d4a",
   "metadata": {},
   "outputs": [
    {
     "name": "stdout",
     "output_type": "stream",
     "text": [
      "{'Gautam', 65, 44, 12, 78, 'Birbal', 'Harishankar', 55, 21, 23}\n"
     ]
    }
   ],
   "source": [
    "set1={'Birbal',\"Gautam\",\"Harishankar\",23,44,55,65}\n",
    "set2={12,21,78}\n",
    "set3=set1.union(set2)\n",
    "print(set3)"
   ]
  },
  {
   "cell_type": "markdown",
   "id": "eb344983-8078-416a-912e-d01fdda9c17a",
   "metadata": {},
   "source": [
    "# Intersection_update"
   ]
  },
  {
   "cell_type": "raw",
   "id": "780f599b-3929-4e34-9da2-e69cc4280945",
   "metadata": {},
   "source": [
    "Keep only duplicates items while joining"
   ]
  },
  {
   "cell_type": "code",
   "execution_count": 55,
   "id": "8b561c0d-1f5c-4b73-a958-b1e7598fa1f5",
   "metadata": {},
   "outputs": [
    {
     "name": "stdout",
     "output_type": "stream",
     "text": [
      "{12, 'Birbal'} <class 'set'>\n"
     ]
    }
   ],
   "source": [
    "set1={'Birbal',\"Gautam\",\"Harishankar\",12,44,55,65}\n",
    "set2={12,21,78,'Birbal'}\n",
    "set1.intersection_update(set2)\n",
    "print(set1,type(set))"
   ]
  },
  {
   "cell_type": "markdown",
   "id": "4e0ec9c2-57fd-46cd-b42f-6c6dea68aca6",
   "metadata": {},
   "source": [
    "# Symmateric_difference_update"
   ]
  },
  {
   "cell_type": "raw",
   "id": "dcee2cc6-c6c0-47ad-ad47-722053efe617",
   "metadata": {},
   "source": [
    "if items is duplicate then will be not join that value"
   ]
  },
  {
   "cell_type": "code",
   "execution_count": 57,
   "id": "464177de-695f-4c2e-a9f4-26effff183d0",
   "metadata": {},
   "outputs": [
    {
     "name": "stdout",
     "output_type": "stream",
     "text": [
      "{'Gautam', 65, 78, 21, 44, 'Harishankar', 55}\n"
     ]
    }
   ],
   "source": [
    "set1={'Birbal',\"Gautam\",\"Harishankar\",12,44,55,65}\n",
    "set2={12,21,78,'Birbal'}\n",
    "set1.symmetric_difference_update(set2)\n",
    "print(set1)"
   ]
  },
  {
   "cell_type": "code",
   "execution_count": null,
   "id": "e5368407-fb95-4953-9231-dc1a10b3ab83",
   "metadata": {},
   "outputs": [],
   "source": []
  },
  {
   "cell_type": "markdown",
   "id": "5c1bc34f-f84f-492f-9a48-30737793a11f",
   "metadata": {},
   "source": [
    "# Some Problem on Set Data Type"
   ]
  },
  {
   "cell_type": "markdown",
   "id": "b18d31b1-2a00-4aa0-842d-cbbf549eb689",
   "metadata": {},
   "source": [
    "# <<<<<<<<<<<<<<<<<<<<<<<<<<"
   ]
  },
  {
   "cell_type": "code",
   "execution_count": null,
   "id": "273864fe-f1f1-4fb7-8524-17521d9785ea",
   "metadata": {},
   "outputs": [],
   "source": []
  }
 ],
 "metadata": {
  "kernelspec": {
   "display_name": "Python 3 (ipykernel)",
   "language": "python",
   "name": "python3"
  },
  "language_info": {
   "codemirror_mode": {
    "name": "ipython",
    "version": 3
   },
   "file_extension": ".py",
   "mimetype": "text/x-python",
   "name": "python",
   "nbconvert_exporter": "python",
   "pygments_lexer": "ipython3",
   "version": "3.12.4"
  },
  "widgets": {
   "application/vnd.jupyter.widget-state+json": {
    "state": {},
    "version_major": 2,
    "version_minor": 0
   }
  }
 },
 "nbformat": 4,
 "nbformat_minor": 5
}
